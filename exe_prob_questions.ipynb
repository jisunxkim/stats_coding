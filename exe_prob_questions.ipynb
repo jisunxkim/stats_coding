{
 "cells": [
  {
   "cell_type": "code",
   "execution_count": 24,
   "metadata": {},
   "outputs": [
    {
     "name": "stdout",
     "output_type": "stream",
     "text": [
      "random number: 0.003951239802626794\n",
      "scaled by 6: 0.023707438815760762\n",
      "round to int: 0\n",
      "1\n"
     ]
    }
   ],
   "source": [
    "# Write a function dice_rolls that takes the continuous random generator and simulates a dice roll (return a number between 1 and 6, with all numbers having a uniform distribution).\n",
    "import random \n",
    "import numpy as np\n",
    "\n",
    "def dice1():\n",
    "    rn = random.random()\n",
    "    print(f\"random number: {rn}\")\n",
    "    print(f\"scaled by 6: {rn*6}\")\n",
    "    print(f\"round to int: {int(rn*6)}\")\n",
    "    \n",
    "    return int(rn*6) + 1\n",
    "\n",
    "print(dice1())\n",
    "\n",
    "def dice2():\n",
    "    return"
   ]
  },
  {
   "cell_type": "code",
   "execution_count": null,
   "metadata": {},
   "outputs": [],
   "source": []
  },
  {
   "cell_type": "code",
   "execution_count": null,
   "metadata": {},
   "outputs": [],
   "source": []
  }
 ],
 "metadata": {
  "kernelspec": {
   "display_name": "tf",
   "language": "python",
   "name": "python3"
  },
  "language_info": {
   "codemirror_mode": {
    "name": "ipython",
    "version": 3
   },
   "file_extension": ".py",
   "mimetype": "text/x-python",
   "name": "python",
   "nbconvert_exporter": "python",
   "pygments_lexer": "ipython3",
   "version": "3.8.19"
  }
 },
 "nbformat": 4,
 "nbformat_minor": 2
}
