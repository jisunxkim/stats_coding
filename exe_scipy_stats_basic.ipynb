{
 "cells": [
  {
   "cell_type": "code",
   "execution_count": 18,
   "metadata": {},
   "outputs": [
    {
     "name": "stdout",
     "output_type": "stream",
     "text": [
      "99% confidence interval:  (2.962098014195961, 4.837901985804038)\n"
     ]
    }
   ],
   "source": [
    "import numpy as np \n",
    "from scipy import stats as st \n",
    "\n",
    "data = [1, 1, 1, 2, 2, 2, 3, 3, 3, 3,  \n",
    "            3, 4, 4, 5, 5, 5, 6, 7, 8, 10]\n",
    "\n",
    "df = len(data) - 1 # degree of freedom\n",
    "mean = np.mean(data)\n",
    "std_error = st.sem(data)\n",
    "t_dist = st.t(loc=mean, scale=std_error, df=df)\n",
    "\n",
    "confidence = 0.90 # 90% confidence interval\n",
    "confidence_intertval = t_dist.interval(confidence=confidence)\n",
    "print(\"99% confidence interval: \", confidence_intertval)\n"
   ]
  },
  {
   "cell_type": "code",
   "execution_count": 19,
   "metadata": {},
   "outputs": [
    {
     "name": "stdout",
     "output_type": "stream",
     "text": [
      "99% confidence interval:  (6.780344388002806, 7.239655611997193)\n"
     ]
    }
   ],
   "source": [
    "import numpy as np \n",
    "from scipy import stats as st \n",
    "\n",
    "data = np.random.randint(5, 10, 100)\n",
    "\n",
    "mean = np.mean(data)\n",
    "std_error = st.sem(data)\n",
    "norm_dist = st.norm(loc=mean, scale=std_error)\n",
    "\n",
    "confidence = 0.90 # 90% confidence interval\n",
    "confidence_intertval = norm_dist.interval(confidence=confidence)\n",
    "print(\"99% confidence interval: \", confidence_intertval)"
   ]
  },
  {
   "cell_type": "code",
   "execution_count": 21,
   "metadata": {},
   "outputs": [
    {
     "data": {
      "text/plain": [
       "TtestResult(statistic=0.0716226184349259, pvalue=0.9430467320603091, df=99)"
      ]
     },
     "execution_count": 21,
     "metadata": {},
     "output_type": "execute_result"
    }
   ],
   "source": [
    "st.ttest_1samp(data, popmean=7)"
   ]
  },
  {
   "cell_type": "code",
   "execution_count": null,
   "metadata": {},
   "outputs": [],
   "source": []
  }
 ],
 "metadata": {
  "kernelspec": {
   "display_name": "ds",
   "language": "python",
   "name": "python3"
  },
  "language_info": {
   "codemirror_mode": {
    "name": "ipython",
    "version": 3
   },
   "file_extension": ".py",
   "mimetype": "text/x-python",
   "name": "python",
   "nbconvert_exporter": "python",
   "pygments_lexer": "ipython3",
   "version": "3.1.-1"
  }
 },
 "nbformat": 4,
 "nbformat_minor": 2
}
