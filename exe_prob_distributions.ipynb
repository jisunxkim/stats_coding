{
 "cells": [
  {
   "cell_type": "code",
   "execution_count": 1,
   "metadata": {},
   "outputs": [],
   "source": [
    "import numpy as np\n",
    "import matplotlib.pyplot as plt"
   ]
  },
  {
   "cell_type": "markdown",
   "metadata": {},
   "source": [
    "## Normal Distribution"
   ]
  },
  {
   "cell_type": "code",
   "execution_count": 2,
   "metadata": {},
   "outputs": [
    {
     "name": "stdout",
     "output_type": "stream",
     "text": [
      "population mean: 10, population std: 2\n",
      "sample mean: 10.07, sample std: 1.91\n"
     ]
    },
    {
     "data": {
      "image/png": "[encoded data removed]",
      "text/plain": [
       "<Figure size 640x480 with 1 Axes>"
      ]
     },
     "metadata": {},
     "output_type": "display_data"
    }
   ],
   "source": [
    "# Population\n",
    "mean = 10\n",
    "std_dev = 2\n",
    "print(f\"population mean: {mean}, population std: {std_dev}\")\n",
    "# sampling\n",
    "n_samples = 1000\n",
    "sample = np.random.normal(loc=mean, scale=std_dev, size=n_samples)\n",
    "# print(sample)\n",
    "print(f\"sample mean: {np.mean(sample):0.2f}, sample std: {np.std(sample):0.2f}\")\n",
    "g = plt.hist(sample, bins=10)"
   ]
  },
  {
   "cell_type": "code",
   "execution_count": 3,
   "metadata": {},
   "outputs": [
    {
     "name": "stdout",
     "output_type": "stream",
     "text": [
      "SAT is normal distribution of mean 1100 and std 200\n",
      "Ann's z score:  0.450\n",
      "Ann's percentile: 0.674\n",
      "probability she scores at least 1190 on SAT: 0.326\n",
      "p-value of Ann's score: 0.653\n"
     ]
    }
   ],
   "source": [
    "import numpy as np \n",
    "import scipy.stats as st \n",
    "\n",
    "# SAT ~ N(1100, 200)\n",
    "sat_mean = 1100\n",
    "sat_std = 200\n",
    "# Ann GOT SAT Score\n",
    "Ann_score = 1190\n",
    "print(f\"SAT is normal distribution of mean {sat_mean} and std {sat_std}\")\n",
    "z_score = (Ann_score - sat_mean) / sat_std\n",
    "print(f\"Ann's z score: {z_score: 0.3f}\")\n",
    "print(f\"Ann's percentile: {st.norm.cdf(z_score):0.3f}\")\n",
    "# probability to get at least her score\n",
    "print(f\"probability she scores at least {Ann_score} on SAT: {1-(st.norm.cdf(z_score)):0.3f}\")\n",
    "# p-value of Ann's score\n",
    "print(f\"p-value of Ann's score: {2*(1 - st.norm.cdf(z_score)):0.3f}\")"
   ]
  },
  {
   "cell_type": "code",
   "execution_count": 4,
   "metadata": {},
   "outputs": [
    {
     "name": "stdout",
     "output_type": "stream",
     "text": [
      "zscore of 40th percentile: -0.253\n",
      "hight of 40th perdentile is  5.8\n"
     ]
    }
   ],
   "source": [
    "# US male's hight\n",
    "p_mean = 70\n",
    "p_std = 3.3\n",
    "# hight of 40th percentile?\n",
    "z_40th = st.norm.ppf(0.4) # standard normal!!!\n",
    "print(f\"zscore of 40th percentile: {z_40th:0.3f}\")\n",
    "# z = (x-mu) / sigma => x = z*sigma + mu\n",
    "hight_40th = z_40th * p_std + p_mean\n",
    "print(f\"hight of 40th perdentile is {hight_40th / 12: 0.1f}\")"
   ]
  },
  {
   "cell_type": "code",
   "execution_count": 5,
   "metadata": {},
   "outputs": [
    {
     "name": "stdout",
     "output_type": "stream",
     "text": [
      "0.95 percentile sat score is: 1429.0\n"
     ]
    }
   ],
   "source": [
    "from scipy.stats import norm \n",
    "# SAT ~ N(1100, 200)\n",
    "mu = 1100\n",
    "sigma = 200\n",
    "# what is the 95th percentile for SAT score?\n",
    "percentile = 0.95\n",
    "z = norm.ppf(percentile)\n",
    "# z = (x - mu) / sigma, x = z*sigma + mu\n",
    "sat = z * sigma + mu \n",
    "print(f\"{percentile} percentile sat score is: {sat:0.1f}\")"
   ]
  },
  {
   "cell_type": "code",
   "execution_count": 6,
   "metadata": {},
   "outputs": [
    {
     "name": "stdout",
     "output_type": "stream",
     "text": [
      "z score: 1.21, prob: 0.113\n"
     ]
    }
   ],
   "source": [
    "import scipy.stats as st \n",
    "# audlt male heights ~ N(70, 3.3)\n",
    "mu, sigma = 70, 3.3\n",
    "# waht is the probability that a randomly selected male\n",
    "# is at least 74 inches?\n",
    "z = (74 - mu) / sigma \n",
    "prob = 1 - st.norm.cdf(z)\n",
    "print(f\"z score: {z:0.2f}, prob: {prob:0.3f}\")"
   ]
  },
  {
   "cell_type": "code",
   "execution_count": 12,
   "metadata": {},
   "outputs": [
    {
     "name": "stdout",
     "output_type": "stream",
     "text": [
      "z limit is 2.67 and rv is 2.52\n",
      "truncated distribution vale is:\n",
      "2.52\n"
     ]
    }
   ],
   "source": [
    "# truncated distribution\n",
    "# Given a percentile_threshold, mean m, and standard deviation sd of the normal distribution, write a function truncated_dist to simulate a normal distribution truncated at percentile_threshold.\n",
    "import numpy as np \n",
    "import scipy.stats as st \n",
    "\n",
    "m = 2\n",
    "sd = 1\n",
    "percentile_thresdhold = 0.75\n",
    "\n",
    "z_limit = st.norm(loc=m, scale=sd).ppf(percentile_thresdhold)\n",
    "rv = np.random.normal(loc=m, scale=sd, size=1)\n",
    "\n",
    "print(f\"z limit is {float(z_limit):0.2f} and rv is {float(rv):0.2f}\")\n",
    "print(\"truncated distribution vale is:\")\n",
    "\n",
    "print(z_limit if rv >= z_limit else np.round(rv,2)[0])\n",
    "\n"
   ]
  },
  {
   "cell_type": "markdown",
   "metadata": {},
   "source": [
    "## Bernoulli Distribution"
   ]
  },
  {
   "cell_type": "code",
   "execution_count": 12,
   "metadata": {},
   "outputs": [
    {
     "name": "stdout",
     "output_type": "stream",
     "text": [
      "Bernoulli sample from p=0.3 \n",
      " [0 0 0 0 1 1 0 1 0 0 0 1 0 0 1 1 0 0 0 0 1 1 0 0 1 0 1 0 0 0]\n",
      "mu=p: 0.333, sigma = sqrt(p*(1-q)): 0.471\n"
     ]
    }
   ],
   "source": [
    "import scipy.stats as st \n",
    "#Bernoulli Dsitribution\n",
    "# probability that a client exceed deduction limit as p \n",
    "p = 0.3\n",
    "sample_size = 30\n",
    "# generate sample from the bernoulli distribution\n",
    "sample = st.bernoulli.rvs(p=p, size=sample_size)\n",
    "print(\"Bernoulli sample from p=0.3 \\n\", sample)\n",
    "mu = np.mean(sample)\n",
    "sigma = np.sqrt(mu *(1-mu))\n",
    "print(f\"mu=p: {mu:0.3f}, sigma = sqrt(p*(1-q)): {sigma:0.3f}\")"
   ]
  },
  {
   "cell_type": "markdown",
   "metadata": {},
   "source": [
    "## Geometric Distribution"
   ]
  },
  {
   "cell_type": "code",
   "execution_count": 126,
   "metadata": {},
   "outputs": [
    {
     "name": "stdout",
     "output_type": "stream",
     "text": [
      "probability of FFS: 0.063\n",
      "probability the first success at kth trial:\n",
      "k: 5, prob: 0.006\n",
      "This is a geometric distribution\n",
      "mean : 1.429\n",
      "sigma: 0.7824607964359517\n",
      "total number of trials to find the first not exceeding deductible:\n",
      "1.43 cases\n"
     ]
    }
   ],
   "source": [
    "import scipy.stats as st\n",
    "# Geometric distribution\n",
    "# An insurane company want to find a case\n",
    "# were a customer didn't exceed his/herdeduction.\n",
    "# number of bernoulli trials until first success.\n",
    "# success: not exceeding deduction\n",
    "# fail: exceeding deduction\n",
    "\n",
    "# in general 70% of customers don't exceed the deduction\n",
    "p = 0.7\n",
    "#probability that first and second exceed, \n",
    "# and the thirdnot exceed\n",
    "print(f\"probability of FFS: {(1-p)*(1-p)*p:0.3f}\")\n",
    "# probability n-1 Failes until the first sucess at n\n",
    "print(f\"probability the first success at kth trial:\")\n",
    "k = 5\n",
    "print(f\"k: {k}, prob: {((1-p)**(k-1))*p:0.3f}\")\n",
    "\n",
    "print(\"This is a geometric distribution\")\n",
    "print(f\"mean : {1/p:0.3f}\")\n",
    "print(f\"sigma: {np.sqrt((1-p)/p**2)}\")\n",
    "# how many cases we need to look up \n",
    "# until we find the first case of not exceeding their deductibile?\n",
    "print(f\"total number of trials to find the first not exceeding deductible:\")\n",
    "print(f\"{1/p:0.2f} cases\")"
   ]
  },
  {
   "cell_type": "code",
   "execution_count": 124,
   "metadata": {},
   "outputs": [
    {
     "name": "stdout",
     "output_type": "stream",
     "text": [
      "p: 0.2, mu=1/p: 5.0, sigma(=sqrt(1-p)/p**2): 4.472\n",
      "[ 4  4  5  1  9 15  5 12  3  2]\n"
     ]
    },
    {
     "data": {
      "image/png": "[encoded data removed]",
      "text/plain": [
       "<Figure size 400x100 with 1 Axes>"
      ]
     },
     "metadata": {},
     "output_type": "display_data"
    }
   ],
   "source": [
    "import scipy.stats as st\n",
    "# generate geometric sample\n",
    "p = 0.2\n",
    "mu = 1/p # average total 1/p trials to get the first success\n",
    "sigma = np.sqrt((1-p) / p**2)\n",
    "print(f\"p: {p}, mu=1/p: {mu:0.1f}, sigma(=sqrt(1-p)/p**2): {sigma:0.3f}\")\n",
    "\n",
    "# generate 10 samples\n",
    "# f(k) = (1-p)**(k-1) * p\n",
    "sample = st.geom(p=p).rvs(size=10)\n",
    "\n",
    "print(sample)\n",
    "K = [k for k in range(10)]\n",
    "prob = [st.geom.pmf(k=k, p=p) for k in K]\n",
    "plt.figure(figsize=(4,1))\n",
    "plt.bar(x, prob)\n",
    "plt.show()"
   ]
  },
  {
   "cell_type": "markdown",
   "metadata": {},
   "source": [
    "## Binormial Distribution"
   ]
  },
  {
   "cell_type": "code",
   "execution_count": 127,
   "metadata": {},
   "outputs": [
    {
     "name": "stdout",
     "output_type": "stream",
     "text": [
      "prob only 1 sucess out of 10: 0.076\n",
      "p:0.3, n: 10, mu=np:3.0, sigma=sqrt(np(1-p)):1.449\n",
      "[4 2 5 3 0 2 4 1 6 1]\n",
      "[(0, 0.0), (1, 0.1), (2, 0.2), (3, 0.3), (4, 0.2), (5, 0.1), (6, 0.0), (7, 0.0), (8, 0.0), (9, 0.0)]\n"
     ]
    },
    {
     "data": {
      "image/png": "[encoded data removed]",
      "text/plain": [
       "<Figure size 400x200 with 1 Axes>"
      ]
     },
     "metadata": {},
     "output_type": "display_data"
    }
   ],
   "source": [
    "import numpy as np\n",
    "import scipy.stats as st \n",
    "# binormial distribution\n",
    "# the number of scucess in a fixed number of trials\n",
    "\n",
    "# insurance: a person exceed deduction as success\n",
    "p = 0.3\n",
    "n = 10 # total number of trials\n",
    "k = 1# number of success\n",
    "# one out of four exceed the deduction\n",
    "prob_bin_1_4 = 4 * 0.7 * (1-0.7)**3 # there are four cases \n",
    "print(f\"prob only {k} sucess out of {n}: {prob_bin_1_4:0.3f}\")\n",
    "\n",
    "mu = n*p\n",
    "sigma = np.sqrt(n*p*(1-p))  \n",
    "print(f\"p:{p}, n: {n}, mu=np:{mu}, sigma=sqrt(np(1-p)):{sigma:0.3f}\")\n",
    "\n",
    "# generate 10 samples\n",
    "sample = st.binom(p=p, n=n).rvs(size=10)\n",
    "\n",
    "print(sample)\n",
    "K = [k for k in range(n)]\n",
    "prob = [st.binom(p=p, n=n).pmf(k) for k in K]\n",
    "print(list(zip(K, [round(p,1) for p in prob])))\n",
    "\n",
    "plt.figure(figsize=(4,2))\n",
    "plt.bar(x, prob)\n",
    "plt.show()"
   ]
  },
  {
   "cell_type": "code",
   "execution_count": 68,
   "metadata": {},
   "outputs": [
    {
     "name": "stdout",
     "output_type": "stream",
     "text": [
      "prob k >= 7 when p 0.3 and n 10: 0.0106\n",
      "Probability of at least 7 successes out of 10 trials: 0.0106\n"
     ]
    }
   ],
   "source": [
    "import scipy.stats as st\n",
    "import numpy as np \n",
    "\n",
    "# probability at least 7 success out of 10 trials\n",
    "p = 0.3\n",
    "n = 10\n",
    "\n",
    "prob = 1- st.binom(p=p, n=n).cdf(6)\n",
    "print(f\"prob k >= 7 when p {p} and n {n}: {prob:0.4f}\")\n",
    "\n",
    "# Calculate manually the probability of getting at least 7 successes\n",
    "probability = sum([np.math.comb(n, k) * p**k * (1 - p)**(n - k) for k in range(7, n+1)])\n",
    "\n",
    "print(f\"Probability of at least 7 successes out of 10 trials: {probability:0.4f}\")"
   ]
  },
  {
   "cell_type": "markdown",
   "metadata": {},
   "source": [
    "## Normal approximation to Binomial distribution"
   ]
  },
  {
   "cell_type": "code",
   "execution_count": 114,
   "metadata": {},
   "outputs": [
    {
     "name": "stdout",
     "output_type": "stream",
     "text": [
      "check - Meet positive casses: True,     check - Meet negative cases: True\n",
      "normal approximation mu: 60.00, sigma: 7.14\n",
      "probability of observing 42 or less smokers:     0.0059\n"
     ]
    },
    {
     "data": {
      "image/png": "[encoded data removed]",
      "text/plain": [
       "<Figure size 400x200 with 1 Axes>"
      ]
     },
     "metadata": {},
     "output_type": "display_data"
    },
    {
     "name": "stdout",
     "output_type": "stream",
     "text": [
      "prob of observing 49, 50, 51:\n",
      "     using binorm: 0.0649 \n",
      "     using norm.pdf: 0.0633 \n",
      "     using norm.cdf: 0.0420\n"
     ]
    }
   ],
   "source": [
    "import numpy as np\n",
    "import scipy.stats as st \n",
    "import matplotlib.pyplot as plt\n",
    "\n",
    "# about 15% of the US population smokes cigarettes.\n",
    "p = 0.15\n",
    "n = 400\n",
    "\n",
    "# check positive and negative condition\n",
    "print(f\"check - Meet positive casses: {n*p > 10}, \\\n",
    "    check - Meet negative cases: {n*(1-p) > 10}\")\n",
    "\n",
    "mu = n*p\n",
    "sigma = np.sqrt(n*p*(1-p))\n",
    "norm = st.norm(loc=mu, scale=sigma)\n",
    "binom = st.binom(n=n, p=p)\n",
    "print(f\"normal approximation mu: {mu:0.2f}, sigma: {sigma:0.2f}\")\n",
    "print(f\"probability of observing 42 or less smokers: \\\n",
    "    {norm.cdf(x=42):0.4f}\")\n",
    "\n",
    "plt.figure(figsize=(4,2))\n",
    "plt.bar(x=[x for x in range(100)], \n",
    "        height=[norm.pdf(x) for x in range(100)])\n",
    "plt.show()\n",
    "\n",
    "print(f\"prob of observing 49, 50, 51:\\n \\\n",
    "    using binorm: {sum(binom.pmf(x) for x in [49,50,51]):0.4f} \\n \\\n",
    "    using norm.pdf: {sum(norm.pdf(x) for x in [49,50,51]):0.4f} \\n \\\n",
    "    using norm.cdf: {norm.cdf(51) - norm.cdf(49):0.4f}\")"
   ]
  },
  {
   "cell_type": "markdown",
   "metadata": {},
   "source": [
    "## Negative Binomial Distribution  \n",
    "\n",
    "### NOTE: n and k has different definitions in scypy.stats.nbinom!!!\n",
    "- geometric distribution: the first success at k trials.   \n",
    "- negative binormial: the nth success after k failures. total trials = n + k"
   ]
  },
  {
   "cell_type": "code",
   "execution_count": 141,
   "metadata": {},
   "outputs": [
    {
     "name": "stdout",
     "output_type": "stream",
     "text": [
      "prob of 4th scucess at 6th trial (2 failures): 0.1638\n",
      "probabilty of 4th sucess within 5 attemps (0 or 1 failure):    0.74\n"
     ]
    }
   ],
   "source": [
    "import numpy as np \n",
    "import scipy.stats as st\n",
    "\n",
    "# Brian meakes each 35 yard filed goal with probability 0.8.\n",
    "p = 0.8\n",
    "\n",
    "# n: number of success\n",
    "# k: number of failure\n",
    "# probability of fourth golas at 6th trials\n",
    "n, k = 4, 6-4\n",
    "prob_negbinom= st.nbinom(p=p, n=n)\n",
    "print(f\"prob of 4th scucess at 6th trial (2 failures): {prob_negbinom.pmf(k=k):0.4f}\")\n",
    "# probabilty of 4th sucess within 5 attemps?\n",
    "print(f\"probabilty of 4th sucess within 5 attemps (0 or 1 failure):\\\n",
    "    {st.nbinom.pmf(p=0.8, n=4, k=0)+ st.nbinom.pmf(p=0.8, n=4, k=1):0.2f}\")"
   ]
  },
  {
   "cell_type": "markdown",
   "metadata": {},
   "source": [
    "## Poisson Distribution\n",
    "- Estimating the number of evetns in a large population over a unit of time\n",
    "- of fixed population if the individuals within population are independent."
   ]
  },
  {
   "cell_type": "code",
   "execution_count": null,
   "metadata": {},
   "outputs": [],
   "source": []
  }
 ],
 "metadata": {
  "kernelspec": {
   "display_name": "tf",
   "language": "python",
   "name": "python3"
  },
  "language_info": {
   "codemirror_mode": {
    "name": "ipython",
    "version": 3
   },
   "file_extension": ".py",
   "mimetype": "text/x-python",
   "name": "python",
   "nbconvert_exporter": "python",
   "pygments_lexer": "ipython3",
   "version": "3.8.19"
  }
 },
 "nbformat": 4,
 "nbformat_minor": 2
}
